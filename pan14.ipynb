{
 "cells": [
  {
   "cell_type": "code",
   "execution_count": 2,
   "metadata": {},
   "outputs": [],
   "source": [
    "#ตอนที่ 16 - ส่งออกเอกสาร CSV\n",
    "\n",
    "import pandas as pd"
   ]
  },
  {
   "cell_type": "code",
   "execution_count": 3,
   "metadata": {},
   "outputs": [],
   "source": [
    "#ข้อมูล\n",
    "item1 = [\"คีย์บอร์ด\",\"ตุ๊กตา\",\"กาว\"]\n",
    "category = [\"อุปกรณ์\",\"ของเล่น\",\"หลอน\"]\n",
    "price = [499,522,408]\n",
    "\n",
    "#สร้าง Series\n",
    "names = pd.Series(item1)\n",
    "category = pd.Series(item1)\n",
    "price = pd.Series(item1)"
   ]
  },
  {
   "cell_type": "code",
   "execution_count": 11,
   "metadata": {},
   "outputs": [],
   "source": [
    "#นำข้อมูล Series มาต่อใน dict\n",
    "fname = {\"Name\":names,\"Category\":category,\"Price\":price}\n",
    "#นำมาสร้างเป็น dataframe\n",
    "df  = pd.DataFrame(fname)"
   ]
  },
  {
   "cell_type": "code",
   "execution_count": 12,
   "metadata": {},
   "outputs": [
    {
     "data": {
      "text/html": [
       "<div>\n",
       "<style scoped>\n",
       "    .dataframe tbody tr th:only-of-type {\n",
       "        vertical-align: middle;\n",
       "    }\n",
       "\n",
       "    .dataframe tbody tr th {\n",
       "        vertical-align: top;\n",
       "    }\n",
       "\n",
       "    .dataframe thead th {\n",
       "        text-align: right;\n",
       "    }\n",
       "</style>\n",
       "<table border=\"1\" class=\"dataframe\">\n",
       "  <thead>\n",
       "    <tr style=\"text-align: right;\">\n",
       "      <th></th>\n",
       "      <th>Name</th>\n",
       "      <th>Category</th>\n",
       "      <th>Price</th>\n",
       "    </tr>\n",
       "  </thead>\n",
       "  <tbody>\n",
       "    <tr>\n",
       "      <th>0</th>\n",
       "      <td>คีย์บอร์ด</td>\n",
       "      <td>คีย์บอร์ด</td>\n",
       "      <td>คีย์บอร์ด</td>\n",
       "    </tr>\n",
       "    <tr>\n",
       "      <th>1</th>\n",
       "      <td>ตุ๊กตา</td>\n",
       "      <td>ตุ๊กตา</td>\n",
       "      <td>ตุ๊กตา</td>\n",
       "    </tr>\n",
       "    <tr>\n",
       "      <th>2</th>\n",
       "      <td>กาว</td>\n",
       "      <td>กาว</td>\n",
       "      <td>กาว</td>\n",
       "    </tr>\n",
       "  </tbody>\n",
       "</table>\n",
       "</div>"
      ],
      "text/plain": [
       "        Name   Category      Price\n",
       "0  คีย์บอร์ด  คีย์บอร์ด  คีย์บอร์ด\n",
       "1     ตุ๊กตา     ตุ๊กตา     ตุ๊กตา\n",
       "2        กาว        กาว        กาว"
      ]
     },
     "execution_count": 12,
     "metadata": {},
     "output_type": "execute_result"
    }
   ],
   "source": [
    "df"
   ]
  },
  {
   "cell_type": "code",
   "execution_count": 8,
   "metadata": {},
   "outputs": [],
   "source": [
    "#ส่งออกไฟล์ในตำแหน่งที่เราไว้ในโฟลเดอร์\n",
    "df.to_csv(\"product\")"
   ]
  },
  {
   "cell_type": "code",
   "execution_count": 13,
   "metadata": {},
   "outputs": [],
   "source": [
    "#ส่งออกไฟล์ในตำแหน่งที่เราไว้ในโฟลเดอร์ (มีทั้ง index และ columns)\n",
    "df.to_csv(\"product1\",header=True,index=True)"
   ]
  },
  {
   "cell_type": "code",
   "execution_count": null,
   "metadata": {},
   "outputs": [],
   "source": [
    "#ส่งออกไฟล์ในตำแหน่งที่เราไว้ในโฟลเดอร์ (มีเเต่ columns)\n",
    "df.to_csv(\"product2\",header=True,index=False)"
   ]
  },
  {
   "cell_type": "code",
   "execution_count": 14,
   "metadata": {},
   "outputs": [],
   "source": [
    "#ส่งออกไฟล์ในตำแหน่งที่เราไว้ในโฟลเดอร์ (มีเเต่ index)\n",
    "df.to_csv(\"product3\",header=False,index=True)"
   ]
  },
  {
   "cell_type": "code",
   "execution_count": null,
   "metadata": {},
   "outputs": [],
   "source": []
  }
 ],
 "metadata": {
  "interpreter": {
   "hash": "eb9fcdd68595467333c59401bd8939092efbf8aa2754b1988671764e562418a0"
  },
  "kernelspec": {
   "display_name": "Python 3.8.13 ('jy')",
   "language": "python",
   "name": "python3"
  },
  "language_info": {
   "codemirror_mode": {
    "name": "ipython",
    "version": 3
   },
   "file_extension": ".py",
   "mimetype": "text/x-python",
   "name": "python",
   "nbconvert_exporter": "python",
   "pygments_lexer": "ipython3",
   "version": "3.9.7"
  },
  "orig_nbformat": 4
 },
 "nbformat": 4,
 "nbformat_minor": 2
}
