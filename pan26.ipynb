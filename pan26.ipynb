{
 "cells": [
  {
   "cell_type": "code",
   "execution_count": 2,
   "metadata": {},
   "outputs": [],
   "source": [
    "#ตอนที่ 28 - เลือกข้อมูลด้วย isin\n",
    "\n",
    "import pandas as pd"
   ]
  },
  {
   "cell_type": "code",
   "execution_count": 3,
   "metadata": {},
   "outputs": [],
   "source": [
    "#เอา indexColumns มาไว้เป็นลำดับแรก\n",
    "df = pd.read_excel(\"D:\\Destop\\Pandas_workshop\\pandastutorial-main\\dataupdate.xlsx\",\"weather\",index_col=\"Day\") #แสดงหัว index ให้เป็นแบบวันที่ \n"
   ]
  },
  {
   "cell_type": "code",
   "execution_count": 13,
   "metadata": {},
   "outputs": [
    {
     "data": {
      "text/html": [
       "<div>\n",
       "<style scoped>\n",
       "    .dataframe tbody tr th:only-of-type {\n",
       "        vertical-align: middle;\n",
       "    }\n",
       "\n",
       "    .dataframe tbody tr th {\n",
       "        vertical-align: top;\n",
       "    }\n",
       "\n",
       "    .dataframe thead th {\n",
       "        text-align: right;\n",
       "    }\n",
       "</style>\n",
       "<table border=\"1\" class=\"dataframe\">\n",
       "  <thead>\n",
       "    <tr style=\"text-align: right;\">\n",
       "      <th></th>\n",
       "      <th>Temperature</th>\n",
       "      <th>WindSpeed</th>\n",
       "      <th>Event</th>\n",
       "    </tr>\n",
       "    <tr>\n",
       "      <th>Day</th>\n",
       "      <th></th>\n",
       "      <th></th>\n",
       "      <th></th>\n",
       "    </tr>\n",
       "  </thead>\n",
       "  <tbody>\n",
       "    <tr>\n",
       "      <th>2020-12-05</th>\n",
       "      <td>20</td>\n",
       "      <td>5</td>\n",
       "      <td>เมฆมาก</td>\n",
       "    </tr>\n",
       "    <tr>\n",
       "      <th>2020-12-09</th>\n",
       "      <td>17</td>\n",
       "      <td>5</td>\n",
       "      <td>เมฆมาก</td>\n",
       "    </tr>\n",
       "    <tr>\n",
       "      <th>2020-12-17</th>\n",
       "      <td>20</td>\n",
       "      <td>8</td>\n",
       "      <td>ฝนตก</td>\n",
       "    </tr>\n",
       "    <tr>\n",
       "      <th>2020-12-18</th>\n",
       "      <td>18</td>\n",
       "      <td>5</td>\n",
       "      <td>ฝนตก</td>\n",
       "    </tr>\n",
       "    <tr>\n",
       "      <th>2020-12-30</th>\n",
       "      <td>35</td>\n",
       "      <td>2</td>\n",
       "      <td>ฝนตก</td>\n",
       "    </tr>\n",
       "  </tbody>\n",
       "</table>\n",
       "</div>"
      ],
      "text/plain": [
       "            Temperature  WindSpeed   Event\n",
       "Day                                       \n",
       "2020-12-05           20          5  เมฆมาก\n",
       "2020-12-09           17          5  เมฆมาก\n",
       "2020-12-17           20          8    ฝนตก\n",
       "2020-12-18           18          5    ฝนตก\n",
       "2020-12-30           35          2    ฝนตก"
      ]
     },
     "execution_count": 13,
     "metadata": {},
     "output_type": "execute_result"
    }
   ],
   "source": [
    "#แสดงวันที่เมฆมาก หรือ อุณหภูมิ <= 18\n",
    "\n",
    "df.loc[(df.Temperature == 15) | (df.Temperature <= 18)| (df.Temperature == 20)| (df.Temperature == 35)]"
   ]
  },
  {
   "cell_type": "code",
   "execution_count": 18,
   "metadata": {},
   "outputs": [
    {
     "data": {
      "text/html": [
       "<div>\n",
       "<style scoped>\n",
       "    .dataframe tbody tr th:only-of-type {\n",
       "        vertical-align: middle;\n",
       "    }\n",
       "\n",
       "    .dataframe tbody tr th {\n",
       "        vertical-align: top;\n",
       "    }\n",
       "\n",
       "    .dataframe thead th {\n",
       "        text-align: right;\n",
       "    }\n",
       "</style>\n",
       "<table border=\"1\" class=\"dataframe\">\n",
       "  <thead>\n",
       "    <tr style=\"text-align: right;\">\n",
       "      <th></th>\n",
       "      <th>Temperature</th>\n",
       "      <th>WindSpeed</th>\n",
       "      <th>Event</th>\n",
       "    </tr>\n",
       "    <tr>\n",
       "      <th>Day</th>\n",
       "      <th></th>\n",
       "      <th></th>\n",
       "      <th></th>\n",
       "    </tr>\n",
       "  </thead>\n",
       "  <tbody>\n",
       "    <tr>\n",
       "      <th>2020-12-05</th>\n",
       "      <td>20</td>\n",
       "      <td>5</td>\n",
       "      <td>เมฆมาก</td>\n",
       "    </tr>\n",
       "    <tr>\n",
       "      <th>2020-12-17</th>\n",
       "      <td>20</td>\n",
       "      <td>8</td>\n",
       "      <td>ฝนตก</td>\n",
       "    </tr>\n",
       "    <tr>\n",
       "      <th>2020-12-18</th>\n",
       "      <td>18</td>\n",
       "      <td>5</td>\n",
       "      <td>ฝนตก</td>\n",
       "    </tr>\n",
       "    <tr>\n",
       "      <th>2020-12-30</th>\n",
       "      <td>35</td>\n",
       "      <td>2</td>\n",
       "      <td>ฝนตก</td>\n",
       "    </tr>\n",
       "  </tbody>\n",
       "</table>\n",
       "</div>"
      ],
      "text/plain": [
       "            Temperature  WindSpeed   Event\n",
       "Day                                       \n",
       "2020-12-05           20          5  เมฆมาก\n",
       "2020-12-17           20          8    ฝนตก\n",
       "2020-12-18           18          5    ฝนตก\n",
       "2020-12-30           35          2    ฝนตก"
      ]
     },
     "execution_count": 18,
     "metadata": {},
     "output_type": "execute_result"
    }
   ],
   "source": [
    "#ต่อไปเราจะใช้คำสั่งลดรูปโดยใช้  เลือกข้อมูลด้วย isin\n",
    "\n",
    "df.loc[(df.Temperature.isin([15,18,20,35]))]"
   ]
  },
  {
   "cell_type": "code",
   "execution_count": 17,
   "metadata": {},
   "outputs": [
    {
     "data": {
      "text/html": [
       "<div>\n",
       "<style scoped>\n",
       "    .dataframe tbody tr th:only-of-type {\n",
       "        vertical-align: middle;\n",
       "    }\n",
       "\n",
       "    .dataframe tbody tr th {\n",
       "        vertical-align: top;\n",
       "    }\n",
       "\n",
       "    .dataframe thead th {\n",
       "        text-align: right;\n",
       "    }\n",
       "</style>\n",
       "<table border=\"1\" class=\"dataframe\">\n",
       "  <thead>\n",
       "    <tr style=\"text-align: right;\">\n",
       "      <th></th>\n",
       "      <th>Temperature</th>\n",
       "      <th>WindSpeed</th>\n",
       "      <th>Event</th>\n",
       "    </tr>\n",
       "    <tr>\n",
       "      <th>Day</th>\n",
       "      <th></th>\n",
       "      <th></th>\n",
       "      <th></th>\n",
       "    </tr>\n",
       "  </thead>\n",
       "  <tbody>\n",
       "    <tr>\n",
       "      <th>2020-12-05</th>\n",
       "      <td>20</td>\n",
       "      <td>5</td>\n",
       "      <td>เมฆมาก</td>\n",
       "    </tr>\n",
       "    <tr>\n",
       "      <th>2020-12-17</th>\n",
       "      <td>20</td>\n",
       "      <td>8</td>\n",
       "      <td>ฝนตก</td>\n",
       "    </tr>\n",
       "    <tr>\n",
       "      <th>2020-12-18</th>\n",
       "      <td>18</td>\n",
       "      <td>5</td>\n",
       "      <td>ฝนตก</td>\n",
       "    </tr>\n",
       "    <tr>\n",
       "      <th>2020-12-30</th>\n",
       "      <td>35</td>\n",
       "      <td>2</td>\n",
       "      <td>ฝนตก</td>\n",
       "    </tr>\n",
       "  </tbody>\n",
       "</table>\n",
       "</div>"
      ],
      "text/plain": [
       "            Temperature  WindSpeed   Event\n",
       "Day                                       \n",
       "2020-12-05           20          5  เมฆมาก\n",
       "2020-12-17           20          8    ฝนตก\n",
       "2020-12-18           18          5    ฝนตก\n",
       "2020-12-30           35          2    ฝนตก"
      ]
     },
     "execution_count": 17,
     "metadata": {},
     "output_type": "execute_result"
    }
   ],
   "source": [
    "#แสดงอุณหภูมิแค่ 35 องศาเท่านั้นโดยใช้ .isin\n",
    "df.loc[(df.Temperature.isin([35]))]"
   ]
  },
  {
   "cell_type": "code",
   "execution_count": 20,
   "metadata": {},
   "outputs": [
    {
     "data": {
      "text/html": [
       "<div>\n",
       "<style scoped>\n",
       "    .dataframe tbody tr th:only-of-type {\n",
       "        vertical-align: middle;\n",
       "    }\n",
       "\n",
       "    .dataframe tbody tr th {\n",
       "        vertical-align: top;\n",
       "    }\n",
       "\n",
       "    .dataframe thead th {\n",
       "        text-align: right;\n",
       "    }\n",
       "</style>\n",
       "<table border=\"1\" class=\"dataframe\">\n",
       "  <thead>\n",
       "    <tr style=\"text-align: right;\">\n",
       "      <th></th>\n",
       "      <th>Temperature</th>\n",
       "      <th>WindSpeed</th>\n",
       "      <th>Event</th>\n",
       "    </tr>\n",
       "    <tr>\n",
       "      <th>Day</th>\n",
       "      <th></th>\n",
       "      <th></th>\n",
       "      <th></th>\n",
       "    </tr>\n",
       "  </thead>\n",
       "  <tbody>\n",
       "    <tr>\n",
       "      <th>2020-12-05</th>\n",
       "      <td>20</td>\n",
       "      <td>5</td>\n",
       "      <td>เมฆมาก</td>\n",
       "    </tr>\n",
       "    <tr>\n",
       "      <th>2020-12-17</th>\n",
       "      <td>20</td>\n",
       "      <td>8</td>\n",
       "      <td>ฝนตก</td>\n",
       "    </tr>\n",
       "    <tr>\n",
       "      <th>2020-12-30</th>\n",
       "      <td>35</td>\n",
       "      <td>2</td>\n",
       "      <td>ฝนตก</td>\n",
       "    </tr>\n",
       "  </tbody>\n",
       "</table>\n",
       "</div>"
      ],
      "text/plain": [
       "            Temperature  WindSpeed   Event\n",
       "Day                                       \n",
       "2020-12-05           20          5  เมฆมาก\n",
       "2020-12-17           20          8    ฝนตก\n",
       "2020-12-30           35          2    ฝนตก"
      ]
     },
     "execution_count": 20,
     "metadata": {},
     "output_type": "execute_result"
    }
   ],
   "source": [
    "#แสดงอุณหภูมิ 20,35 องศาเท่านั้นโดยใช้ .isin\n",
    "df.loc[(df.Temperature.isin([20,35]))]"
   ]
  },
  {
   "cell_type": "code",
   "execution_count": 23,
   "metadata": {},
   "outputs": [
    {
     "name": "stderr",
     "output_type": "stream",
     "text": [
      "C:\\Users\\NITRO5~1\\AppData\\Local\\Temp/ipykernel_26720/1387405798.py:2: UserWarning: Boolean Series key will be reindexed to match DataFrame index.\n",
      "  df.loc[(df.Temperature.isin([30,35]))][df.Event==\"แดดร้อน\"]\n"
     ]
    },
    {
     "data": {
      "text/html": [
       "<div>\n",
       "<style scoped>\n",
       "    .dataframe tbody tr th:only-of-type {\n",
       "        vertical-align: middle;\n",
       "    }\n",
       "\n",
       "    .dataframe tbody tr th {\n",
       "        vertical-align: top;\n",
       "    }\n",
       "\n",
       "    .dataframe thead th {\n",
       "        text-align: right;\n",
       "    }\n",
       "</style>\n",
       "<table border=\"1\" class=\"dataframe\">\n",
       "  <thead>\n",
       "    <tr style=\"text-align: right;\">\n",
       "      <th></th>\n",
       "      <th>Temperature</th>\n",
       "      <th>WindSpeed</th>\n",
       "      <th>Event</th>\n",
       "    </tr>\n",
       "    <tr>\n",
       "      <th>Day</th>\n",
       "      <th></th>\n",
       "      <th></th>\n",
       "      <th></th>\n",
       "    </tr>\n",
       "  </thead>\n",
       "  <tbody>\n",
       "    <tr>\n",
       "      <th>2020-12-01</th>\n",
       "      <td>30</td>\n",
       "      <td>9</td>\n",
       "      <td>แดดร้อน</td>\n",
       "    </tr>\n",
       "    <tr>\n",
       "      <th>2020-12-13</th>\n",
       "      <td>30</td>\n",
       "      <td>2</td>\n",
       "      <td>แดดร้อน</td>\n",
       "    </tr>\n",
       "  </tbody>\n",
       "</table>\n",
       "</div>"
      ],
      "text/plain": [
       "            Temperature  WindSpeed    Event\n",
       "Day                                        \n",
       "2020-12-01           30          9  แดดร้อน\n",
       "2020-12-13           30          2  แดดร้อน"
      ]
     },
     "execution_count": 23,
     "metadata": {},
     "output_type": "execute_result"
    }
   ],
   "source": [
    "#แสดงอุณหภูมิ 20,35 และมีแดดร้อนด้วย องศาเท่านั้นโดยใช้ .isin\n",
    "df.loc[(df.Temperature.isin([30,35]))][df.Event==\"แดดร้อน\"]"
   ]
  },
  {
   "cell_type": "code",
   "execution_count": null,
   "metadata": {},
   "outputs": [],
   "source": []
  },
  {
   "cell_type": "code",
   "execution_count": 24,
   "metadata": {},
   "outputs": [],
   "source": [
    "#ใช้ลดรูปได้เยอะ"
   ]
  }
 ],
 "metadata": {
  "interpreter": {
   "hash": "2ec74600753563b4e8d642cd75082558087e4e714931243f37ded6ea2856b8a0"
  },
  "kernelspec": {
   "display_name": "Python 3.9.7 ('base')",
   "language": "python",
   "name": "python3"
  },
  "language_info": {
   "codemirror_mode": {
    "name": "ipython",
    "version": 3
   },
   "file_extension": ".py",
   "mimetype": "text/x-python",
   "name": "python",
   "nbconvert_exporter": "python",
   "pygments_lexer": "ipython3",
   "version": "3.9.7"
  },
  "orig_nbformat": 4
 },
 "nbformat": 4,
 "nbformat_minor": 2
}
