{
 "cells": [
  {
   "cell_type": "code",
   "execution_count": 2,
   "metadata": {},
   "outputs": [],
   "source": [
    "#ตอนที่ 26 - การลูปข้อมูล\n",
    "\n",
    "import pandas as pd"
   ]
  },
  {
   "cell_type": "code",
   "execution_count": 3,
   "metadata": {},
   "outputs": [],
   "source": [
    "#เอา indexColumns มาไว้เป็นลำดับแรก\n",
    "df = pd.read_excel(\"D:\\Destop\\Pandas_workshop\\pandastutorial-main\\dataupdate.xlsx\",\"weather\",index_col=\"Day\") #แสดงหัว index ให้เป็นแบบวันที่ \n"
   ]
  },
  {
   "cell_type": "code",
   "execution_count": 6,
   "metadata": {},
   "outputs": [
    {
     "name": "stdout",
     "output_type": "stream",
     "text": [
      "อุณหภูมิ = 30 ส่งผให้เกิด แดดร้อน\n",
      "อุณหภูมิ = 28 ส่งผให้เกิด เมฆมาก\n",
      "อุณหภูมิ = 27 ส่งผให้เกิด ฝนตก\n",
      "อุณหภูมิ = 19 ส่งผให้เกิด แดดร้อน\n",
      "อุณหภูมิ = 20 ส่งผให้เกิด เมฆมาก\n",
      "อุณหภูมิ = 25 ส่งผให้เกิด ฝนตก\n",
      "อุณหภูมิ = 36 ส่งผให้เกิด ฝนตก\n",
      "อุณหภูมิ = 28 ส่งผให้เกิด ฝนตก\n",
      "อุณหภูมิ = 17 ส่งผให้เกิด เมฆมาก\n",
      "อุณหภูมิ = 24 ส่งผให้เกิด แดดร้อน\n",
      "อุณหภูมิ = 26 ส่งผให้เกิด ฝนตก\n",
      "อุณหภูมิ = 27 ส่งผให้เกิด แดดร้อน\n",
      "อุณหภูมิ = 30 ส่งผให้เกิด แดดร้อน\n",
      "อุณหภูมิ = 31 ส่งผให้เกิด เมฆมาก\n",
      "อุณหภูมิ = 28 ส่งผให้เกิด แดดร้อน\n",
      "อุณหภูมิ = 27 ส่งผให้เกิด แดดร้อน\n",
      "อุณหภูมิ = 20 ส่งผให้เกิด ฝนตก\n",
      "อุณหภูมิ = 18 ส่งผให้เกิด ฝนตก\n",
      "อุณหภูมิ = 25 ส่งผให้เกิด แดดร้อน\n",
      "อุณหภูมิ = 28 ส่งผให้เกิด เมฆมาก\n",
      "อุณหภูมิ = 25 ส่งผให้เกิด เมฆมาก\n",
      "อุณหภูมิ = 38 ส่งผให้เกิด เมฆมาก\n",
      "อุณหภูมิ = 34 ส่งผให้เกิด ฝนตก\n",
      "อุณหภูมิ = 29 ส่งผให้เกิด ฝนตก\n",
      "อุณหภูมิ = 34 ส่งผให้เกิด แดดร้อน\n",
      "อุณหภูมิ = 25 ส่งผให้เกิด ฝนตก\n",
      "อุณหภูมิ = 28 ส่งผให้เกิด เมฆมาก\n",
      "อุณหภูมิ = 30 ส่งผให้เกิด เมฆมาก\n",
      "อุณหภูมิ = 31 ส่งผให้เกิด ฝนตก\n",
      "อุณหภูมิ = 35 ส่งผให้เกิด ฝนตก\n"
     ]
    }
   ],
   "source": [
    "#แสดงผลโดยที่เราใช้ Loop\n",
    "for idx,row in df.iterrows():\n",
    "    print(\"อุณหภูมิ = {} ส่งผให้เกิด {}\".format(row.Temperature,row.Event))"
   ]
  },
  {
   "cell_type": "code",
   "execution_count": null,
   "metadata": {},
   "outputs": [],
   "source": []
  }
 ],
 "metadata": {
  "interpreter": {
   "hash": "2ec74600753563b4e8d642cd75082558087e4e714931243f37ded6ea2856b8a0"
  },
  "kernelspec": {
   "display_name": "Python 3.9.7 ('base')",
   "language": "python",
   "name": "python3"
  },
  "language_info": {
   "codemirror_mode": {
    "name": "ipython",
    "version": 3
   },
   "file_extension": ".py",
   "mimetype": "text/x-python",
   "name": "python",
   "nbconvert_exporter": "python",
   "pygments_lexer": "ipython3",
   "version": "3.9.7"
  },
  "orig_nbformat": 4
 },
 "nbformat": 4,
 "nbformat_minor": 2
}
