{
 "cells": [
  {
   "cell_type": "code",
   "execution_count": 3,
   "metadata": {},
   "outputs": [],
   "source": [
    "#ตอนที่ 22 - ชนิดข้อมูลและค่าทางสถิติ\n",
    "\n",
    "import pandas as pd"
   ]
  },
  {
   "cell_type": "code",
   "execution_count": 7,
   "metadata": {},
   "outputs": [
    {
     "data": {
      "text/html": [
       "<div>\n",
       "<style scoped>\n",
       "    .dataframe tbody tr th:only-of-type {\n",
       "        vertical-align: middle;\n",
       "    }\n",
       "\n",
       "    .dataframe tbody tr th {\n",
       "        vertical-align: top;\n",
       "    }\n",
       "\n",
       "    .dataframe thead th {\n",
       "        text-align: right;\n",
       "    }\n",
       "</style>\n",
       "<table border=\"1\" class=\"dataframe\">\n",
       "  <thead>\n",
       "    <tr style=\"text-align: right;\">\n",
       "      <th></th>\n",
       "      <th>Score</th>\n",
       "      <th>Age</th>\n",
       "      <th>Gender</th>\n",
       "      <th>Grade</th>\n",
       "    </tr>\n",
       "    <tr>\n",
       "      <th>Name</th>\n",
       "      <th></th>\n",
       "      <th></th>\n",
       "      <th></th>\n",
       "      <th></th>\n",
       "    </tr>\n",
       "  </thead>\n",
       "  <tbody>\n",
       "    <tr>\n",
       "      <th>อาทิตย์</th>\n",
       "      <td>90</td>\n",
       "      <td>20</td>\n",
       "      <td>ชาย</td>\n",
       "      <td>A</td>\n",
       "    </tr>\n",
       "    <tr>\n",
       "      <th>นิตยา</th>\n",
       "      <td>75</td>\n",
       "      <td>18</td>\n",
       "      <td>หญิง</td>\n",
       "      <td>B</td>\n",
       "    </tr>\n",
       "    <tr>\n",
       "      <th>โจโจ้</th>\n",
       "      <td>88</td>\n",
       "      <td>22</td>\n",
       "      <td>ชาย</td>\n",
       "      <td>A</td>\n",
       "    </tr>\n",
       "    <tr>\n",
       "      <th>แก้มใส</th>\n",
       "      <td>65</td>\n",
       "      <td>19</td>\n",
       "      <td>หญิง</td>\n",
       "      <td>C</td>\n",
       "    </tr>\n",
       "    <tr>\n",
       "      <th>ตั๊กแตน</th>\n",
       "      <td>82</td>\n",
       "      <td>23</td>\n",
       "      <td>หญิง</td>\n",
       "      <td>A</td>\n",
       "    </tr>\n",
       "    <tr>\n",
       "      <th>เก๋ไก๋</th>\n",
       "      <td>50</td>\n",
       "      <td>20</td>\n",
       "      <td>หญิง</td>\n",
       "      <td>D</td>\n",
       "    </tr>\n",
       "    <tr>\n",
       "      <th>วุฒิชัย</th>\n",
       "      <td>45</td>\n",
       "      <td>17</td>\n",
       "      <td>ชาย</td>\n",
       "      <td>F</td>\n",
       "    </tr>\n",
       "    <tr>\n",
       "      <th>ชัยสิทธิ์</th>\n",
       "      <td>62</td>\n",
       "      <td>18</td>\n",
       "      <td>ชาย</td>\n",
       "      <td>C</td>\n",
       "    </tr>\n",
       "    <tr>\n",
       "      <th>ธนาวุมิ</th>\n",
       "      <td>95</td>\n",
       "      <td>19</td>\n",
       "      <td>ชาย</td>\n",
       "      <td>A</td>\n",
       "    </tr>\n",
       "  </tbody>\n",
       "</table>\n",
       "</div>"
      ],
      "text/plain": [
       "           Score  Age  Gender Grade\n",
       "Name                               \n",
       "อาทิตย์       90   20     ชาย     A\n",
       "นิตยา         75   18    หญิง     B\n",
       "โจโจ้         88   22     ชาย     A\n",
       "แก้มใส        65   19    หญิง     C\n",
       "ตั๊กแตน       82   23    หญิง     A\n",
       "เก๋ไก๋        50   20    หญิง     D\n",
       "วุฒิชัย       45   17     ชาย     F\n",
       "ชัยสิทธิ์     62   18     ชาย     C\n",
       "ธนาวุมิ       95   19     ชาย     A"
      ]
     },
     "execution_count": 7,
     "metadata": {},
     "output_type": "execute_result"
    }
   ],
   "source": [
    "#เอา indexColumns มาไว้เป็นลำดับแรก\n",
    "df = pd.read_excel(\"D:\\Destop\\Pandas_workshop\\pandastutorial-main\\dataupdate.xlsx\",\"score\",index_col=\"Name\") #พร้อมปรับหัวแถวให้เป็น name\n",
    "df"
   ]
  },
  {
   "cell_type": "code",
   "execution_count": 11,
   "metadata": {},
   "outputs": [
    {
     "data": {
      "text/plain": [
       "95"
      ]
     },
     "execution_count": 11,
     "metadata": {},
     "output_type": "execute_result"
    }
   ],
   "source": [
    "#ดึงข้อมูลจากในฝั่ง Score พร้อมเลือกเอาคะแนนสูงสุด\n",
    "df.Score.max()"
   ]
  },
  {
   "cell_type": "code",
   "execution_count": 12,
   "metadata": {},
   "outputs": [
    {
     "data": {
      "text/plain": [
       "72.44444444444444"
      ]
     },
     "execution_count": 12,
     "metadata": {},
     "output_type": "execute_result"
    }
   ],
   "source": [
    "#ดึงข้อมูลจากในฝั่ง Score พร้อม Mean\n",
    "df.Score.mean()"
   ]
  },
  {
   "cell_type": "code",
   "execution_count": null,
   "metadata": {},
   "outputs": [],
   "source": [
    "#ดึงข้อมูลจากในฝั่ง Score พร้อม Min\n",
    "df.Score.min()"
   ]
  },
  {
   "cell_type": "code",
   "execution_count": 13,
   "metadata": {},
   "outputs": [
    {
     "data": {
      "text/plain": [
       "9"
      ]
     },
     "execution_count": 13,
     "metadata": {},
     "output_type": "execute_result"
    }
   ],
   "source": [
    "#ดึงข้อมูลจากในฝั่ง Score พร้อม count\n",
    "df.Score.count()"
   ]
  },
  {
   "cell_type": "code",
   "execution_count": null,
   "metadata": {},
   "outputs": [],
   "source": [
    "#ดึงข้อมูลจากในฝั่ง Score พร้อม std (ส่วนเบี่ยงเบนมาตรฐาน)\n",
    "df.Score.std()"
   ]
  },
  {
   "cell_type": "code",
   "execution_count": 14,
   "metadata": {},
   "outputs": [
    {
     "data": {
      "text/plain": [
       "652"
      ]
     },
     "execution_count": 14,
     "metadata": {},
     "output_type": "execute_result"
    }
   ],
   "source": [
    "#Sumข้อมูลจากในฝั่ง Score \n",
    "df.Score.sum()"
   ]
  },
  {
   "cell_type": "code",
   "execution_count": 17,
   "metadata": {},
   "outputs": [],
   "source": [
    "#เอา indexColumns มาไว้เป็นลำดับแรก\n",
    "df = pd.read_excel(\"D:\\Destop\\Pandas_workshop\\pandastutorial-main\\dataupdate.xlsx\",\"score\") "
   ]
  },
  {
   "cell_type": "code",
   "execution_count": 18,
   "metadata": {},
   "outputs": [],
   "source": [
    "#แปลงข้อมูล Grade ให้เป็นแบบ category\n",
    "\n",
    "df.Grade = df.Grade.astype('category')"
   ]
  },
  {
   "cell_type": "code",
   "execution_count": 19,
   "metadata": {},
   "outputs": [
    {
     "data": {
      "text/plain": [
       "Name         object\n",
       "Score         int64\n",
       "Age           int64\n",
       " Gender      object\n",
       "Grade      category\n",
       "dtype: object"
      ]
     },
     "execution_count": 19,
     "metadata": {},
     "output_type": "execute_result"
    }
   ],
   "source": [
    "df.dtypes"
   ]
  },
  {
   "cell_type": "code",
   "execution_count": null,
   "metadata": {},
   "outputs": [],
   "source": []
  }
 ],
 "metadata": {
  "interpreter": {
   "hash": "2ec74600753563b4e8d642cd75082558087e4e714931243f37ded6ea2856b8a0"
  },
  "kernelspec": {
   "display_name": "Python 3.9.7 ('base')",
   "language": "python",
   "name": "python3"
  },
  "language_info": {
   "codemirror_mode": {
    "name": "ipython",
    "version": 3
   },
   "file_extension": ".py",
   "mimetype": "text/x-python",
   "name": "python",
   "nbconvert_exporter": "python",
   "pygments_lexer": "ipython3",
   "version": "3.9.7"
  },
  "orig_nbformat": 4
 },
 "nbformat": 4,
 "nbformat_minor": 2
}
