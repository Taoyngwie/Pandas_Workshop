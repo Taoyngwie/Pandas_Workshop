{
 "cells": [
  {
   "cell_type": "code",
   "execution_count": 1,
   "metadata": {},
   "outputs": [],
   "source": [
    "#ตอนที่ 13 - สร้าง DataFrame จาก List ด้วย zip\n",
    "\n",
    "import pandas as pd"
   ]
  },
  {
   "cell_type": "code",
   "execution_count": 17,
   "metadata": {},
   "outputs": [],
   "source": [
    "#ข้อมูล\n",
    "item1 = [\"คีย์บอร์ด\",\"IT\",4000]\n",
    "item2 = [\"ตุ๊กตา\",\"ของเล่น\",5000]\n",
    "item3 = [\"กาว\",\"หลอน\",408]\n",
    "item4 = [1,2,3]\n",
    "\n",
    "#นำลิสต์มารวมกันโดยใช้ zip\n",
    "data = list(zip(item1,item2,item3,item4))"
   ]
  },
  {
   "cell_type": "code",
   "execution_count": 18,
   "metadata": {},
   "outputs": [],
   "source": [
    "#นำข้อมูลมาสร้าง DataFrame\n",
    "cols = ['Name',\"Category\",\"Price\",\"ความสำคัญ\"]\n",
    "\n",
    "#เอาข้อมูลจากเเนวนอนมาแสดงผลเป็นเเนวตั้ง\n",
    "df = pd.DataFrame(data,columns=cols)"
   ]
  },
  {
   "cell_type": "code",
   "execution_count": 19,
   "metadata": {},
   "outputs": [
    {
     "data": {
      "text/html": [
       "<div>\n",
       "<style scoped>\n",
       "    .dataframe tbody tr th:only-of-type {\n",
       "        vertical-align: middle;\n",
       "    }\n",
       "\n",
       "    .dataframe tbody tr th {\n",
       "        vertical-align: top;\n",
       "    }\n",
       "\n",
       "    .dataframe thead th {\n",
       "        text-align: right;\n",
       "    }\n",
       "</style>\n",
       "<table border=\"1\" class=\"dataframe\">\n",
       "  <thead>\n",
       "    <tr style=\"text-align: right;\">\n",
       "      <th></th>\n",
       "      <th>Name</th>\n",
       "      <th>Category</th>\n",
       "      <th>Price</th>\n",
       "      <th>ความสำคัญ</th>\n",
       "    </tr>\n",
       "  </thead>\n",
       "  <tbody>\n",
       "    <tr>\n",
       "      <th>0</th>\n",
       "      <td>คีย์บอร์ด</td>\n",
       "      <td>ตุ๊กตา</td>\n",
       "      <td>กาว</td>\n",
       "      <td>1</td>\n",
       "    </tr>\n",
       "    <tr>\n",
       "      <th>1</th>\n",
       "      <td>IT</td>\n",
       "      <td>ของเล่น</td>\n",
       "      <td>หลอน</td>\n",
       "      <td>2</td>\n",
       "    </tr>\n",
       "    <tr>\n",
       "      <th>2</th>\n",
       "      <td>4000</td>\n",
       "      <td>5000</td>\n",
       "      <td>408</td>\n",
       "      <td>3</td>\n",
       "    </tr>\n",
       "  </tbody>\n",
       "</table>\n",
       "</div>"
      ],
      "text/plain": [
       "        Name Category Price  ความสำคัญ\n",
       "0  คีย์บอร์ด   ตุ๊กตา   กาว          1\n",
       "1         IT  ของเล่น  หลอน          2\n",
       "2       4000     5000   408          3"
      ]
     },
     "execution_count": 19,
     "metadata": {},
     "output_type": "execute_result"
    }
   ],
   "source": [
    "df"
   ]
  },
  {
   "cell_type": "code",
   "execution_count": 20,
   "metadata": {},
   "outputs": [
    {
     "name": "stdout",
     "output_type": "stream",
     "text": [
      "[('คีย์บอร์ด', 'ตุ๊กตา', 'กาว', 1), ('IT', 'ของเล่น', 'หลอน', 2), (4000, 5000, 408, 3)]\n"
     ]
    }
   ],
   "source": [
    "print(data)"
   ]
  },
  {
   "cell_type": "code",
   "execution_count": null,
   "metadata": {},
   "outputs": [],
   "source": []
  }
 ],
 "metadata": {
  "interpreter": {
   "hash": "eb9fcdd68595467333c59401bd8939092efbf8aa2754b1988671764e562418a0"
  },
  "kernelspec": {
   "display_name": "Python 3.8.13 ('jy')",
   "language": "python",
   "name": "python3"
  },
  "language_info": {
   "codemirror_mode": {
    "name": "ipython",
    "version": 3
   },
   "file_extension": ".py",
   "mimetype": "text/x-python",
   "name": "python",
   "nbconvert_exporter": "python",
   "pygments_lexer": "ipython3",
   "version": "3.9.7"
  },
  "orig_nbformat": 4
 },
 "nbformat": 4,
 "nbformat_minor": 2
}
